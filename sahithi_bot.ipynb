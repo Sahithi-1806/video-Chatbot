{
  "nbformat": 4,
  "nbformat_minor": 0,
  "metadata": {
    "colab": {
      "provenance": []
    },
    "kernelspec": {
      "name": "python3",
      "display_name": "Python 3"
    },
    "language_info": {
      "name": "python"
    }
  },
  "cells": [
    {
      "cell_type": "code",
      "source": [
        "!pip install cohere gtts moviepy python-telegram-bot==13.14\n"
      ],
      "metadata": {
        "colab": {
          "base_uri": "https://localhost:8080/",
          "height": 1000
        },
        "id": "cHqVza_2I1Hz",
        "outputId": "298af0ed-44a2-46a1-a36e-a00be2862563"
      },
      "execution_count": 3,
      "outputs": [
        {
          "output_type": "stream",
          "name": "stdout",
          "text": [
            "Requirement already satisfied: cohere in /usr/local/lib/python3.10/dist-packages (5.8.0)\n",
            "Collecting gtts\n",
            "  Downloading gTTS-2.5.3-py3-none-any.whl.metadata (4.1 kB)\n",
            "Requirement already satisfied: moviepy in /usr/local/lib/python3.10/dist-packages (1.0.3)\n",
            "Collecting python-telegram-bot==13.14\n",
            "  Downloading python_telegram_bot-13.14-py3-none-any.whl.metadata (11 kB)\n",
            "Requirement already satisfied: certifi in /usr/local/lib/python3.10/dist-packages (from python-telegram-bot==13.14) (2024.7.4)\n",
            "Collecting tornado==6.1 (from python-telegram-bot==13.14)\n",
            "  Downloading tornado-6.1.tar.gz (497 kB)\n",
            "\u001b[2K     \u001b[90m━━━━━━━━━━━━━━━━━━━━━━━━━━━━━━━━━━━━━━━━\u001b[0m \u001b[32m497.4/497.4 kB\u001b[0m \u001b[31m13.4 MB/s\u001b[0m eta \u001b[36m0:00:00\u001b[0m\n",
            "\u001b[?25h  Preparing metadata (setup.py) ... \u001b[?25l\u001b[?25hdone\n",
            "Collecting APScheduler==3.6.3 (from python-telegram-bot==13.14)\n",
            "  Downloading APScheduler-3.6.3-py2.py3-none-any.whl.metadata (5.4 kB)\n",
            "Requirement already satisfied: pytz>=2018.6 in /usr/local/lib/python3.10/dist-packages (from python-telegram-bot==13.14) (2024.1)\n",
            "Collecting cachetools==4.2.2 (from python-telegram-bot==13.14)\n",
            "  Downloading cachetools-4.2.2-py3-none-any.whl.metadata (4.6 kB)\n",
            "Requirement already satisfied: setuptools>=0.7 in /usr/local/lib/python3.10/dist-packages (from APScheduler==3.6.3->python-telegram-bot==13.14) (71.0.4)\n",
            "Requirement already satisfied: six>=1.4.0 in /usr/local/lib/python3.10/dist-packages (from APScheduler==3.6.3->python-telegram-bot==13.14) (1.16.0)\n",
            "Requirement already satisfied: tzlocal>=1.2 in /usr/local/lib/python3.10/dist-packages (from APScheduler==3.6.3->python-telegram-bot==13.14) (5.2)\n",
            "Requirement already satisfied: boto3<2.0.0,>=1.34.0 in /usr/local/lib/python3.10/dist-packages (from cohere) (1.34.160)\n",
            "Requirement already satisfied: fastavro<2.0.0,>=1.9.4 in /usr/local/lib/python3.10/dist-packages (from cohere) (1.9.5)\n",
            "Requirement already satisfied: httpx>=0.21.2 in /usr/local/lib/python3.10/dist-packages (from cohere) (0.27.0)\n",
            "Requirement already satisfied: httpx-sse==0.4.0 in /usr/local/lib/python3.10/dist-packages (from cohere) (0.4.0)\n",
            "Requirement already satisfied: parameterized<0.10.0,>=0.9.0 in /usr/local/lib/python3.10/dist-packages (from cohere) (0.9.0)\n",
            "Requirement already satisfied: pydantic>=1.9.2 in /usr/local/lib/python3.10/dist-packages (from cohere) (2.8.2)\n",
            "Requirement already satisfied: pydantic-core<3.0.0,>=2.18.2 in /usr/local/lib/python3.10/dist-packages (from cohere) (2.20.1)\n",
            "Requirement already satisfied: requests<3.0.0,>=2.0.0 in /usr/local/lib/python3.10/dist-packages (from cohere) (2.32.3)\n",
            "Requirement already satisfied: tokenizers<1,>=0.15 in /usr/local/lib/python3.10/dist-packages (from cohere) (0.19.1)\n",
            "Requirement already satisfied: types-requests<3.0.0,>=2.0.0 in /usr/local/lib/python3.10/dist-packages (from cohere) (2.32.0.20240712)\n",
            "Requirement already satisfied: typing_extensions>=4.0.0 in /usr/local/lib/python3.10/dist-packages (from cohere) (4.12.2)\n",
            "Requirement already satisfied: click<8.2,>=7.1 in /usr/local/lib/python3.10/dist-packages (from gtts) (8.1.7)\n",
            "Requirement already satisfied: decorator<5.0,>=4.0.2 in /usr/local/lib/python3.10/dist-packages (from moviepy) (4.4.2)\n",
            "Requirement already satisfied: tqdm<5.0,>=4.11.2 in /usr/local/lib/python3.10/dist-packages (from moviepy) (4.66.5)\n",
            "Requirement already satisfied: proglog<=1.0.0 in /usr/local/lib/python3.10/dist-packages (from moviepy) (0.1.10)\n",
            "Requirement already satisfied: numpy>=1.17.3 in /usr/local/lib/python3.10/dist-packages (from moviepy) (1.26.4)\n",
            "Requirement already satisfied: imageio<3.0,>=2.5 in /usr/local/lib/python3.10/dist-packages (from moviepy) (2.34.2)\n",
            "Requirement already satisfied: imageio-ffmpeg>=0.2.0 in /usr/local/lib/python3.10/dist-packages (from moviepy) (0.5.1)\n",
            "Requirement already satisfied: botocore<1.35.0,>=1.34.160 in /usr/local/lib/python3.10/dist-packages (from boto3<2.0.0,>=1.34.0->cohere) (1.34.160)\n",
            "Requirement already satisfied: jmespath<2.0.0,>=0.7.1 in /usr/local/lib/python3.10/dist-packages (from boto3<2.0.0,>=1.34.0->cohere) (1.0.1)\n",
            "Requirement already satisfied: s3transfer<0.11.0,>=0.10.0 in /usr/local/lib/python3.10/dist-packages (from boto3<2.0.0,>=1.34.0->cohere) (0.10.2)\n",
            "Requirement already satisfied: anyio in /usr/local/lib/python3.10/dist-packages (from httpx>=0.21.2->cohere) (3.7.1)\n",
            "Requirement already satisfied: httpcore==1.* in /usr/local/lib/python3.10/dist-packages (from httpx>=0.21.2->cohere) (1.0.5)\n",
            "Requirement already satisfied: idna in /usr/local/lib/python3.10/dist-packages (from httpx>=0.21.2->cohere) (3.7)\n",
            "Requirement already satisfied: sniffio in /usr/local/lib/python3.10/dist-packages (from httpx>=0.21.2->cohere) (1.3.1)\n",
            "Requirement already satisfied: h11<0.15,>=0.13 in /usr/local/lib/python3.10/dist-packages (from httpcore==1.*->httpx>=0.21.2->cohere) (0.14.0)\n",
            "Requirement already satisfied: pillow>=8.3.2 in /usr/local/lib/python3.10/dist-packages (from imageio<3.0,>=2.5->moviepy) (9.4.0)\n",
            "Requirement already satisfied: annotated-types>=0.4.0 in /usr/local/lib/python3.10/dist-packages (from pydantic>=1.9.2->cohere) (0.7.0)\n",
            "Requirement already satisfied: charset-normalizer<4,>=2 in /usr/local/lib/python3.10/dist-packages (from requests<3.0.0,>=2.0.0->cohere) (3.3.2)\n",
            "Requirement already satisfied: urllib3<3,>=1.21.1 in /usr/local/lib/python3.10/dist-packages (from requests<3.0.0,>=2.0.0->cohere) (2.0.7)\n",
            "Requirement already satisfied: huggingface-hub<1.0,>=0.16.4 in /usr/local/lib/python3.10/dist-packages (from tokenizers<1,>=0.15->cohere) (0.23.5)\n",
            "Requirement already satisfied: python-dateutil<3.0.0,>=2.1 in /usr/local/lib/python3.10/dist-packages (from botocore<1.35.0,>=1.34.160->boto3<2.0.0,>=1.34.0->cohere) (2.8.2)\n",
            "Requirement already satisfied: filelock in /usr/local/lib/python3.10/dist-packages (from huggingface-hub<1.0,>=0.16.4->tokenizers<1,>=0.15->cohere) (3.15.4)\n",
            "Requirement already satisfied: fsspec>=2023.5.0 in /usr/local/lib/python3.10/dist-packages (from huggingface-hub<1.0,>=0.16.4->tokenizers<1,>=0.15->cohere) (2024.6.1)\n",
            "Requirement already satisfied: packaging>=20.9 in /usr/local/lib/python3.10/dist-packages (from huggingface-hub<1.0,>=0.16.4->tokenizers<1,>=0.15->cohere) (24.1)\n",
            "Requirement already satisfied: pyyaml>=5.1 in /usr/local/lib/python3.10/dist-packages (from huggingface-hub<1.0,>=0.16.4->tokenizers<1,>=0.15->cohere) (6.0.2)\n",
            "Requirement already satisfied: exceptiongroup in /usr/local/lib/python3.10/dist-packages (from anyio->httpx>=0.21.2->cohere) (1.2.2)\n",
            "Downloading python_telegram_bot-13.14-py3-none-any.whl (514 kB)\n",
            "\u001b[2K   \u001b[90m━━━━━━━━━━━━━━━━━━━━━━━━━━━━━━━━━━━━━━━━\u001b[0m \u001b[32m514.6/514.6 kB\u001b[0m \u001b[31m30.7 MB/s\u001b[0m eta \u001b[36m0:00:00\u001b[0m\n",
            "\u001b[?25hDownloading APScheduler-3.6.3-py2.py3-none-any.whl (58 kB)\n",
            "\u001b[2K   \u001b[90m━━━━━━━━━━━━━━━━━━━━━━━━━━━━━━━━━━━━━━━━\u001b[0m \u001b[32m58.9/58.9 kB\u001b[0m \u001b[31m4.9 MB/s\u001b[0m eta \u001b[36m0:00:00\u001b[0m\n",
            "\u001b[?25hDownloading cachetools-4.2.2-py3-none-any.whl (11 kB)\n",
            "Downloading gTTS-2.5.3-py3-none-any.whl (29 kB)\n",
            "Building wheels for collected packages: tornado\n",
            "  Building wheel for tornado (setup.py) ... \u001b[?25l\u001b[?25hdone\n",
            "  Created wheel for tornado: filename=tornado-6.1-cp310-cp310-linux_x86_64.whl size=421979 sha256=bbe8bf6addfdf9c43b279c6622b6a749b80821ed5dc3154bc2dca1e20c7ff1bb\n",
            "  Stored in directory: /root/.cache/pip/wheels/80/32/8d/21cf0fa6ee4e083f6530e5b83dfdfa9489a3890d320803f4c7\n",
            "Successfully built tornado\n",
            "Installing collected packages: tornado, cachetools, APScheduler, python-telegram-bot, gtts\n",
            "  Attempting uninstall: tornado\n",
            "    Found existing installation: tornado 6.3.3\n",
            "    Uninstalling tornado-6.3.3:\n",
            "      Successfully uninstalled tornado-6.3.3\n",
            "  Attempting uninstall: cachetools\n",
            "    Found existing installation: cachetools 5.4.0\n",
            "    Uninstalling cachetools-5.4.0:\n",
            "      Successfully uninstalled cachetools-5.4.0\n",
            "\u001b[31mERROR: pip's dependency resolver does not currently take into account all the packages that are installed. This behaviour is the source of the following dependency conflicts.\n",
            "bokeh 3.4.3 requires tornado>=6.2, but you have tornado 6.1 which is incompatible.\n",
            "google-colab 1.0.0 requires tornado==6.3.3, but you have tornado 6.1 which is incompatible.\u001b[0m\u001b[31m\n",
            "\u001b[0mSuccessfully installed APScheduler-3.6.3 cachetools-4.2.2 gtts-2.5.3 python-telegram-bot-13.14 tornado-6.1\n"
          ]
        },
        {
          "output_type": "display_data",
          "data": {
            "application/vnd.colab-display-data+json": {
              "pip_warning": {
                "packages": [
                  "tornado"
                ]
              },
              "id": "1f20657b1428408e919a3f5c3e5b9c92"
            }
          },
          "metadata": {}
        }
      ]
    },
    {
      "cell_type": "code",
      "source": [
        "import cohere\n",
        "from gtts import gTTS\n",
        "from moviepy.editor import ImageClip, AudioFileClip\n",
        "from telegram.ext import Updater, CommandHandler, MessageHandler, Filters\n",
        "from telegram import InlineKeyboardButton, InlineKeyboardMarkup\n",
        "from telegram.ext import CallbackContext, CallbackQueryHandler\n",
        "from telegram.update import Update"
      ],
      "metadata": {
        "id": "1NnojvKcKttG"
      },
      "execution_count": 40,
      "outputs": []
    },
    {
      "cell_type": "code",
      "source": [
        "co = cohere.Client('msBTuCyK09FRruQx95UAJ3BYKAJEESoshz3f4o8i')"
      ],
      "metadata": {
        "id": "Nuw-icPcIxNZ"
      },
      "execution_count": 41,
      "outputs": []
    },
    {
      "cell_type": "code",
      "source": [
        "# Define the Cohere response generation function\n",
        "def generate_response(question):\n",
        "    response = co.generate(\n",
        "        model='command-xlarge-nightly',\n",
        "        prompt=question,\n",
        "        max_tokens=150\n",
        "    )\n",
        "    return response.generations[0].text.strip()"
      ],
      "metadata": {
        "id": "PwCcyUiUKwYg"
      },
      "execution_count": 42,
      "outputs": []
    },
    {
      "cell_type": "code",
      "source": [
        "\n",
        "# Define the Text-to-Speech function\n",
        "def text_to_speech(text, output_file):\n",
        "    tts = gTTS(text=text, lang='en')\n",
        "    tts.save(output_file)"
      ],
      "metadata": {
        "id": "InZRBNe9K4CD"
      },
      "execution_count": 43,
      "outputs": []
    },
    {
      "cell_type": "code",
      "source": [
        "# Define the Video Generation function\n",
        "def generate_video(audio_file, output_file):\n",
        "    video_clip = ImageClip(\"sahithi_img.jpg\").set_duration(AudioFileClip(audio_file).duration)\n",
        "    audio_clip = AudioFileClip(audio_file)\n",
        "    video_clip = video_clip.set_audio(audio_clip)\n",
        "    video_clip.write_videofile(output_file, codec='libx264', fps=24)\n"
      ],
      "metadata": {
        "id": "jLIKAKt9LIP0"
      },
      "execution_count": 46,
      "outputs": []
    },
    {
      "cell_type": "code",
      "source": [
        "\n",
        "# Main function to handle Telegram messages\n",
        "def handle_question(update: Update, context: CallbackContext):\n",
        "    question = update.message.text\n",
        "    response = generate_response(question)\n",
        "\n",
        "    audio_file = \"response.mp3\"\n",
        "    video_file = \"response_video.mp4\"\n",
        "\n",
        "    text_to_speech(response, audio_file)\n",
        "    generate_video(audio_file, video_file)\n",
        "\n",
        "    update.message.reply_text(\"AI Sahithi response: \" + response)\n",
        "    context.bot.send_video(chat_id=update.message.chat_id, video=open(video_file, 'rb'))"
      ],
      "metadata": {
        "id": "Tz-ktaj1LUBa"
      },
      "execution_count": 47,
      "outputs": []
    },
    {
      "cell_type": "code",
      "source": [
        "\n",
        "def start(update: Update, context: CallbackContext):\n",
        "    update.message.reply_text(\"Hello! I am AI Sahithi. How can I assist you today?\")"
      ],
      "metadata": {
        "id": "x8ivRTTALYj4"
      },
      "execution_count": 48,
      "outputs": []
    },
    {
      "cell_type": "code",
      "source": [
        "\n",
        "def help_command(update: Update, context: CallbackContext):\n",
        "    update.message.reply_text(\"You can ask me any question!\")"
      ],
      "metadata": {
        "id": "j-s0o01ZLbNs"
      },
      "execution_count": 49,
      "outputs": []
    },
    {
      "cell_type": "code",
      "source": [
        "\n",
        "def unknown(update: Update, context: CallbackContext):\n",
        "    update.message.reply_text(\"Sorry, I didn't understand that command.\")"
      ],
      "metadata": {
        "id": "n_aaItlkLdZ6"
      },
      "execution_count": 50,
      "outputs": []
    },
    {
      "cell_type": "code",
      "source": [
        "# Setup the Telegram bot\n",
        "updater = Updater(\"6704753283:AAGQZ0SnvRjpPfXoDqVLtvCFNUI70SKDLwU\", use_context=True)\n",
        "dispatcher = updater.dispatcher"
      ],
      "metadata": {
        "id": "1Z9aGU54Lfgy"
      },
      "execution_count": 51,
      "outputs": []
    },
    {
      "cell_type": "code",
      "source": [
        "# Add handlers for different commands and messages\n",
        "dispatcher.add_handler(CommandHandler('start', start))\n",
        "dispatcher.add_handler(CommandHandler('help', help_command))\n",
        "dispatcher.add_handler(MessageHandler(Filters.text & ~Filters.command, handle_question))\n",
        "dispatcher.add_handler(MessageHandler(Filters.command, unknown))\n"
      ],
      "metadata": {
        "id": "984WatDaLmbF"
      },
      "execution_count": 52,
      "outputs": []
    },
    {
      "cell_type": "code",
      "source": [
        "updater.start_polling()"
      ],
      "metadata": {
        "id": "nUKfhnvCLpYp"
      },
      "execution_count": 54,
      "outputs": []
    },
    {
      "cell_type": "code",
      "source": [
        "updater.stop()"
      ],
      "metadata": {
        "id": "_QU17wsMLsMC"
      },
      "execution_count": 39,
      "outputs": []
    },
    {
      "cell_type": "code",
      "source": [],
      "metadata": {
        "id": "5UG_z7T4TByr"
      },
      "execution_count": null,
      "outputs": []
    }
  ]
}